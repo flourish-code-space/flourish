{
 "cells": [
  {
   "cell_type": "code",
   "execution_count": 1,
   "id": "4da24cfd",
   "metadata": {},
   "outputs": [],
   "source": [
    "# Imports\n",
    "import os\n",
    "from django.apps import apps as django_apps\n",
    "\n",
    "os.environ[\"DJANGO_ALLOW_ASYNC_UNSAFE\"] = \"true\""
   ]
  },
  {
   "cell_type": "code",
   "execution_count": 2,
   "id": "c4ce0fc1",
   "metadata": {},
   "outputs": [],
   "source": [
    "from flourish_child.models import Appointment\n",
    "\n",
    "child_idx = 'B142-040990678-0-10'\n",
    "upper_visit = 2008\n",
    "visit = 2005\n",
    "\n",
    "while visit <= upper_visit:\n",
    "    try:\n",
    "        old_visit = ChildVisit.objects.get(subject_identifier=child_idx, visit_code=visit)\n",
    "    except ChildVisit.DoesNotExist:\n",
    "        print(visit)\n",
    "        break\n",
    "    else:\n",
    "        appt = old_visit.appointment\n",
    "        new_visit_code = visit - 1\n",
    "        new_appt = Appointment.objects.filter(\n",
    "            subject_identifier=child_idx, visit_code=new_visit_code)\n",
    "        new_appt.update(\n",
    "            appt_datetime=appt.appt_datetime,\n",
    "            appt_type=appt.appt_type,\n",
    "            appt_status=appt.appt_status,\n",
    "            appt_reason=appt.appt_reason)\n",
    "        old_visit.appointment = new_appt[0]\n",
    "        old_visit.save()\n",
    "        visit += 1"
   ]
  },
  {
   "cell_type": "code",
   "execution_count": 2,
   "id": "45c264cd",
   "metadata": {},
   "outputs": [
    {
     "name": "stdout",
     "output_type": "stream",
     "text": [
      "<QuerySet ['flourish_caregiver.sociodemographicdata', 'flourish_caregiver.medicalhistory', 'flourish_caregiver.covid19', 'flourish_caregiver.interviewfocusgroupinterest']>\n"
     ]
    }
   ],
   "source": [
    "caregiver_idx = 'B142-040990678-0'\n",
    "visit_codes = ['2004M', '2005M']\n",
    "visits = MaternalVisit.objects.filter(\n",
    "    subject_identifier=caregiver_idx, visit_code__in=visit_codes).values_list('id', flat=True)\n",
    "\n",
    "metadata2 = CrfMetadata.objects.filter(\n",
    "    subject_identifier=caregiver_idx,\n",
    "    visit_code=visit_codes[1],\n",
    "    entry_status='KEYED').values_list('model', flat=True)\n",
    "\n",
    "exclude_fields = ['_state', 'created', 'modified', 'user_created', 'user_modified',\n",
    "                  'report_datetime', 'maternal_visit_id', 'id', 'hostname_created',\n",
    "                  'hostname_modified', 'revision', 'device_created', 'device_modified',\n",
    "                  'site_id', 'consent_version']\n",
    "\n",
    "print(metadata2)\n",
    "for model in metadata2:\n",
    "    model_cls = django_apps.get_model(model)\n",
    "    try:\n",
    "        obj1, obj2 = model_cls.objects.filter(maternal_visit__in=visits)\n",
    "    except ValueError:\n",
    "        obj1 = model_cls.objects.filter(maternal_visit__in=visits)[0]\n",
    "        obj2 = None\n",
    "\n",
    "    if model == 'flourish_caregiver.hivrapidtestcounseling':\n",
    "        obj1.delete()\n",
    "        obj2.delete()\n",
    "\n",
    "    for key, value in obj1.__dict__.items():\n",
    "        if key in exclude_fields:\n",
    "            continue\n",
    "        obj2_value = getattr(obj2, key, None)\n",
    "        if obj2 and obj2_value != value:\n",
    "            print(model, key, value, obj2_value)\n",
    "            setattr(obj1, key, obj2_value)\n",
    "\n",
    "        if not obj2:\n",
    "            obj1.maternal_visit = MaternalVisit.objects.get(id=visits[0])\n",
    "\n",
    "    try:\n",
    "        obj1.save_base(raw=True)\n",
    "    except Exception as e:\n",
    "        print(model, e)\n",
    "    else:\n",
    "        if obj2:\n",
    "            obj2.delete()\n",
    "            \n"
   ]
  },
  {
   "cell_type": "code",
   "execution_count": 10,
   "id": "8bd56e7b",
   "metadata": {},
   "outputs": [
    {
     "data": {
      "text/plain": [
       "(1, {'flourish_caregiver.MaternalVisit': 1})"
      ]
     },
     "execution_count": 10,
     "metadata": {},
     "output_type": "execute_result"
    }
   ],
   "source": [
    "from django.db.models.signals import post_save, post_delete\n",
    "post_delete.disconnect(dispatch_uid='metadata_reset_on_post_delete')\n",
    "\n",
    "visit = MaternalVisit.objects.filter(subject_identifier='B142-040990678-0', visit_code='2005M')\n",
    "HIVRapidTestCounseling.objects.filter(maternal_visit=visit[0]).delete()\n",
    "visit.delete()"
   ]
  },
  {
   "cell_type": "code",
   "execution_count": 11,
   "id": "257bcbfc",
   "metadata": {},
   "outputs": [],
   "source": [
    "from edc_appointment.models import Appointment\n",
    "\n",
    "maternal_idx = 'B142-040990678-0'\n",
    "upper_visit = 2008\n",
    "visit = 2006\n",
    "\n",
    "while visit <= upper_visit:\n",
    "    try:\n",
    "        old_visit = MaternalVisit.objects.get(subject_identifier=maternal_idx, visit_code=f'{visit}M')\n",
    "    except MaternalVisit.DoesNotExist:\n",
    "        print(visit)\n",
    "        break\n",
    "    else:\n",
    "        appt = old_visit.appointment\n",
    "        new_visit_code = visit - 1\n",
    "        new_appt = Appointment.objects.filter(\n",
    "            subject_identifier=maternal_idx, visit_code=f'{new_visit_code}M')\n",
    "        new_appt.update(\n",
    "            appt_datetime=appt.appt_datetime,\n",
    "            appt_type=appt.appt_type,\n",
    "            appt_status=appt.appt_status,\n",
    "            appt_reason=appt.appt_reason)\n",
    "        old_visit.appointment = new_appt[0]\n",
    "        old_visit.save()\n",
    "        visit += 1"
   ]
  },
  {
   "cell_type": "code",
   "execution_count": 12,
   "id": "1bb3dff0",
   "metadata": {},
   "outputs": [
    {
     "data": {
      "text/plain": [
       "1"
      ]
     },
     "execution_count": 12,
     "metadata": {},
     "output_type": "execute_result"
    }
   ],
   "source": [
    "Appointment.objects.filter(subject_identifier=maternal_idx, visit_code=f'2008M').update(appt_status='in_progress')"
   ]
  },
  {
   "cell_type": "code",
   "execution_count": null,
   "id": "46a80b05",
   "metadata": {},
   "outputs": [],
   "source": []
  }
 ],
 "metadata": {
  "kernelspec": {
   "display_name": "Django Shell-Plus",
   "language": "python",
   "name": "django_extensions"
  },
  "language_info": {
   "codemirror_mode": {
    "name": "ipython",
    "version": 3
   },
   "file_extension": ".py",
   "mimetype": "text/x-python",
   "name": "python",
   "nbconvert_exporter": "python",
   "pygments_lexer": "ipython3",
   "version": "3.8.13"
  }
 },
 "nbformat": 4,
 "nbformat_minor": 5
}
