{
 "cells": [
  {
   "cell_type": "code",
   "id": "initial_id",
   "metadata": {
    "collapsed": true,
    "ExecuteTime": {
     "end_time": "2024-06-27T14:00:19.429411Z",
     "start_time": "2024-06-27T13:59:52.098053Z"
    }
   },
   "source": [
    "import os\n",
    "import sys\n",
    "\n",
    "import django\n",
    "\n",
    "sys.path.append('../')  # add path to project root dir\n",
    "\n",
    "os.environ[\"DJANGO_SETTINGS_MODULE\"] = \"flourish.settings\"\n",
    "\n",
    "os.environ[\"DJANGO_ALLOW_ASYNC_UNSAFE\"] = \"true\"\n",
    "\n",
    "django.setup()"
   ],
   "outputs": [
    {
     "name": "stdout",
     "output_type": "stream",
     "text": [
      "  * Reading config from flourish.ini\n",
      "Loading Data Encryption (init)...\n",
      " * loading keys from /Users/nimrodmunatsi/source/flourish-code-space/flourish/crypto_fields\n",
      " * loading rsa.restricted.public ... Done.\n",
      " * loading rsa.restricted.private ... Done.\n",
      " * loading rsa.local.public ... Done.\n",
      " * loading rsa.local.private ... Done.\n",
      " * loading aes.local ... Done.\n",
      " * loading aes.restricted ... Done.\n",
      " * loading salt.local ... Done.\n",
      " * loading salt.restricted ... Done.\n",
      " Done loading Data Encryption (init)...\n"
     ]
    },
    {
     "name": "stderr",
     "output_type": "stream",
     "text": [
      "/Users/nimrodmunatsi/.venv/flourish/lib/python3.9/site-packages/django_q/conf.py:139: UserWarning: Retry and timeout are misconfigured. Set retry larger than timeout, \n",
      "        failure to do so will cause the tasks to be retriggered before completion. \n",
      "        See https://django-q.readthedocs.io/en/latest/configure.html#retry for details.\n",
      "  warn(\n",
      "/Users/nimrodmunatsi/.venv/flourish/lib/python3.9/site-packages/simple_history/models.py:164: UserWarning: HistoricalRecords added to abstract model (HistoryManagerMixin) without inherit=True\n",
      "  warnings.warn(msg, UserWarning)\n",
      "/Users/nimrodmunatsi/.venv/flourish/lib/python3.9/site-packages/simple_history/models.py:164: UserWarning: HistoricalRecords added to abstract model (ScheduleModelMixin) without inherit=True\n",
      "  warnings.warn(msg, UserWarning)\n",
      "/Users/nimrodmunatsi/.venv/flourish/lib/python3.9/site-packages/simple_history/models.py:164: UserWarning: HistoricalRecords added to abstract model (VisitModelMixin) without inherit=True\n",
      "  warnings.warn(msg, UserWarning)\n",
      "/Users/nimrodmunatsi/.venv/flourish/lib/python3.9/site-packages/simple_history/models.py:164: UserWarning: HistoricalRecords added to abstract model (OnScheduleModelMixin) without inherit=True\n",
      "  warnings.warn(msg, UserWarning)\n",
      "/Users/nimrodmunatsi/.venv/flourish/lib/python3.9/site-packages/simple_history/models.py:164: UserWarning: HistoricalRecords added to abstract model (OffStudyMixin) without inherit=True\n",
      "  warnings.warn(msg, UserWarning)\n",
      "/Users/nimrodmunatsi/.venv/flourish/lib/python3.9/site-packages/simple_history/models.py:164: UserWarning: HistoricalRecords added to abstract model (OnScheduleModelMixin) without inherit=True\n",
      "  warnings.warn(msg, UserWarning)\n"
     ]
    },
    {
     "name": "stdout",
     "output_type": "stream",
     "text": [
      "Loading Data Encryption ...\n",
      " * found encryption keys in /Users/nimrodmunatsi/source/flourish-code-space/flourish/crypto_fields.\n",
      " * using model django_crypto_fields.crypt.\n",
      " Done loading Data Encryption.\n",
      "Loading Edc Consent ...\n",
      " * checking for site consents ...\n",
      " * registered consents 'consents' from 'flourish_caregiver'\n",
      " * registered consents 'consents' from 'flourish_child'\n",
      " * registered consents 'consents' from 'pre_flourish'\n",
      " * registered consents 'consents' from 'flourish_facet'\n",
      " * flourish_caregiver.subjectconsent 1 covering 2020-07-01 UTC to 2025-06-30 UTC\n",
      " * flourish_caregiver.subjectconsent 2 covering 2020-07-01 UTC to 2025-06-30 UTC\n",
      " * flourish_caregiver.subjectconsent 3 covering 2020-07-01 UTC to 2025-06-30 UTC\n",
      " * flourish_caregiver.subjectconsent 4 covering 2020-07-01 UTC to 2025-06-30 UTC\n",
      " * flourish_caregiver.tbadolconsent 1 covering 2020-07-01 UTC to 2025-06-30 UTC\n",
      " * flourish_caregiver.tbinformedconsent 1 covering 2020-07-01 UTC to 2025-06-30 UTC\n",
      " * flourish_child.childdummysubjectconsent 1 covering 2020-07-01 UTC to 2025-06-30 UTC\n",
      " * flourish_child.childdummysubjectconsent 2 covering 2020-07-01 UTC to 2025-06-30 UTC\n",
      " * flourish_child.childdummysubjectconsent 2.1 covering 2020-07-01 UTC to 2025-06-30 UTC\n",
      " * flourish_child.childdummysubjectconsent 3 covering 2020-07-01 UTC to 2025-06-30 UTC\n",
      " * flourish_child.childdummysubjectconsent 4 covering 2020-07-01 UTC to 2025-06-30 UTC\n",
      " * flourish_facet.facetconsent 1 covering 2020-07-01 UTC to 2025-06-30 UTC\n",
      " * flourish_facet.motherchildconsent 1 covering 2020-07-01 UTC to 2025-06-30 UTC\n",
      " * pre_flourish.preflourishcaregiverchildconsent 1 covering 2020-07-01 UTC to 2025-06-30 UTC\n",
      " * pre_flourish.preflourishcaregiverchildconsent 4 covering 2020-07-01 UTC to 2025-06-30 UTC\n",
      " * pre_flourish.preflourishchilddummysubjectconsent 1 covering 2020-07-01 UTC to 2025-06-30 UTC\n",
      " * pre_flourish.preflourishchilddummysubjectconsent 4 covering 2020-07-01 UTC to 2025-06-30 UTC\n",
      " * pre_flourish.preflourishconsent 1 covering 2020-07-01 UTC to 2025-06-30 UTC\n",
      " * pre_flourish.preflourishconsent 4 covering 2020-07-01 UTC to 2025-06-30 UTC\n",
      " * pre_flourish.preflourishconsent 4.1 covering 2020-07-01 UTC to 2025-06-30 UTC\n",
      " Done loading Edc Consent.\n",
      "Loading Edc Device ...\n",
      "  * device id is '99'.\n",
      "  * device role is 'CentralServer'.\n",
      " Done loading Edc Device.\n",
      "Loading Edc Identifier ...\n",
      " Warning: 'identifier_prefix' has not been explicitly set. Using default '999'. See AppConfig.\n",
      " * identifier prefix: 999\n",
      " * check-digit modulus: 7\n",
      " Done loading Edc Identifier\n",
      "Loading Edc Lab ...\n",
      " * checking for labs ...\n",
      " Done loading Edc Lab.\n",
      "Loading Edc Navbar ...\n",
      " * checking for site navbars ...\n",
      " * searching edc_consent           \r         * registered navbars 'navbars' from 'edc_consent'\n",
      " * registered navbars 'navbars' from 'edc_device'\n",
      " * registered navbars 'navbars' from 'edc_navbar'\n",
      " * registered navbars 'navbars' from 'edc_reference'\n",
      " * registered navbars 'navbars' from 'edc_visit_schedule'\n",
      " * registered navbars 'navbars' from 'flourish_export'\n",
      " * registered navbars 'navbars' from 'flourish_dashboard'\n",
      " * registered navbars 'navbars' from 'flourish_follow'\n",
      " * registered navbars 'navbars' from 'pre_flourish_follow'\n",
      " * registered navbars 'navbars' from 'flourish_reports'\n",
      " * registered navbars 'navbars' from 'edc_base'\n",
      " * registered navbars 'navbars' from 'edc_data_manager'\n",
      " * registered navbars 'navbars' from 'edc_odk'\n",
      " * registered navbars 'navbars' from 'edc_protocol'\n",
      " * registered navbars 'navbars' from 'edc_senaite_interface'\n",
      " * registered navbars 'navbars' from 'pre_flourish'\n",
      " * registered navbars 'navbars' from 'flourish_calendar'\n",
      " * registered navbars 'navbars' from 'flourish'\n",
      " * registered navbars 'navbars' from 'flourish_facet'\n",
      " Done loading Edc Navbar.             \n",
      " * checking for site prn_forms ...\n",
      "Loading Edc Registration ...                   \n",
      "  * using edc_registration.registeredsubject\n",
      " Done loading Edc Registration.\n",
      "Loading Edc Reference ...\n",
      " * checking for reference_model_configs ...\n",
      " * checking for labs ...\n",
      " * registered reference model configs from application 'flourish_reference'\n",
      " Done loading Edc Reference.\n",
      "Loading Visit Schedules ...\n",
      " * checking site for module 'visit_schedules' ...\n",
      " * registered visit schedule from 'flourish_visit_schedule'\n",
      " * registered visit schedule from 'pre_flourish'\n",
      " * registered visit schedule from 'flourish_facet'\n",
      " Done loading Visit Schedules.\n",
      "Loading EDC Call Manager ...\n",
      " * call models are in app edc_call_manager.\n",
      " * checking for site model_callers ...\n",
      " * registered model caller '<class 'flourish_follow.model_callers.model_callers.WorkListFollowUpModelCaller'>'\n",
      " * registered model caller '<class 'pre_flourish_follow.model_callers.model_callers.PreFlourishWorkListFollowUpModelCaller'>'\n",
      " Done loading EDC Call Manager.\n",
      "Loading edc_metadata_rules ...\n",
      " * checking for metadata_rules ...\n",
      "   - imported metadata rules from 'flourish_metadata_rules.metadata_rules'\n",
      "   - imported metadata rules from 'pre_flourish.metadata_rules'\n",
      "   - imported metadata rules from 'flourish_facet.metadata_rules'\n",
      " Done loading edc_metadata_rules.\n",
      "Loading Edc Appointments ...\n",
      " * edc_appointment.appointment.\n",
      " * pre_flourish.appointment.\n",
      " * flourish_child.appointment.\n",
      " * flourish_facet.appointment.\n",
      " Done loading Edc Appointments.\n",
      "Loading Edc Base ...\n",
      " * default TIME_ZONE Africa/Gaborone.\n",
      " Done loading Edc Base.\n",
      "Loading Edc Facility ...\n",
      " * 7-Day Clinic MO(100 slots), TU(100 slots), WE(100 slots), TH(100 slots), FR(100 slots), SA(100 slots), SU(100 slots).\n",
      " * 5-Day Clinic MO(100 slots), TU(100 slots), WE(100 slots), TH(100 slots), FR(100 slots).\n",
      " Done loading Edc Facility.\n",
      "Loading Edc Metadata ...\n",
      " * using default metadata models from 'edc_metadata'\n",
      " Done loading Edc Metadata.\n",
      "Loading Edc Protocol ...\n",
      " * BHP142: Flourish.\n",
      " * Study opening date: 2020-07-01 UTC\n",
      " * Expected study closing date: 2025-06-30 UTC\n",
      " Done loading Edc Protocol.\n",
      "Loading Edc Visit Tracking ...\n",
      " * flourish_caregiver.maternalvisit uses model attr 'maternal_visit'\n",
      " * flourish_child.childvisit uses model attr 'child_visit'\n",
      " * pre_flourish.preflourishvisit uses model attr 'pre_flourish_visit'\n",
      " * flourish_facet.facetvisit uses model attr 'facet_visit'\n",
      " Done loading Edc Visit Tracking.\n",
      "Loading Edc Timepoint ...\n",
      " * 'edc_appointment.appointment' is a timepoint model.\n",
      " * 'edc_appointment.historicalappointment' is a timepoint model.\n",
      " * 'pre_flourish.appointment' is a timepoint model.\n",
      " * 'flourish_facet.appointment' is a timepoint model.\n",
      " * 'flourish_child.appointment' is a timepoint model.\n",
      " * 'flourish_child.historicalappointment' is a timepoint model.\n",
      " Done loading Edc Timepoint.\n"
     ]
    }
   ],
   "execution_count": 1
  },
  {
   "metadata": {
    "ExecuteTime": {
     "end_time": "2024-06-27T15:08:38.670862Z",
     "start_time": "2024-06-27T14:58:13.980257Z"
    }
   },
   "cell_type": "code",
   "source": [
    "from django.db.models import Q\n",
    "from tqdm import tqdm\n",
    "from edc_constants.constants import NO, NOT_APPLICABLE\n",
    "from flourish_child.models import ChildPregTesting, ChildTannerStaging\n",
    "from flourish_caregiver.models import CaregiverChildConsent\n",
    "\n",
    "UPDATE_FIELDS = ['menarche', 'menarche_start_dt', 'menarche_start_est']\n",
    "FIELD_MAP = {'menarche': 'manarche_dt_avail', 'menarche_start_dt': 'menarche_dt',\n",
    "             'menarche_start_est': 'menarche_dt_est'}\n",
    "\n",
    "\n",
    "def update_preg_testing(source_obj, preg_objs):\n",
    "    for field in UPDATE_FIELDS:\n",
    "        for preg_obj in preg_objs:\n",
    "            source_field_value = getattr(source_obj, FIELD_MAP[field],\n",
    "                                         getattr(source_obj, field, ''))\n",
    "            target_field_value = getattr(preg_obj, field)\n",
    "            if source_field_value != target_field_value and source_field_value is not None:\n",
    "                setattr(preg_obj, field, source_field_value)\n",
    "                preg_obj.save()\n",
    "\n",
    "\n",
    "def process_child_record(child):\n",
    "    tanner_staging = ChildTannerStaging.objects.filter(\n",
    "        ~Q(manarche_dt_avail__in=['not_reached', NOT_APPLICABLE, NO]),\n",
    "        child_visit__subject_identifier=child, )\n",
    "    preg_objs = ChildPregTesting.objects.filter(child_visit__subject_identifier=child)\n",
    "\n",
    "    if tanner_staging.exists():\n",
    "        source_obj = tanner_staging.latest('report_datetime')\n",
    "        update_preg_testing(source_obj, preg_objs)\n",
    "    elif preg_objs.exists():\n",
    "        source_obj = preg_objs.earliest('report_datetime')\n",
    "        update_preg_testing(source_obj, preg_objs)\n",
    "\n",
    "\n",
    "def main():\n",
    "    all_children = CaregiverChildConsent.objects.values_list('subject_identifier',\n",
    "                                                             flat=True).distinct()\n",
    "    for child in tqdm(all_children):\n",
    "        process_child_record(child)\n",
    "\n",
    "\n",
    "main()"
   ],
   "id": "6fb6c51d2ec2ab32",
   "outputs": [
    {
     "name": "stderr",
     "output_type": "stream",
     "text": [
      "100%|██████████| 1304/1304 [10:24<00:00,  2.09it/s]\n"
     ]
    }
   ],
   "execution_count": 5
  },
  {
   "metadata": {},
   "cell_type": "markdown",
   "source": "",
   "id": "cefda71670a783ae"
  },
  {
   "metadata": {
    "ExecuteTime": {
     "end_time": "2024-06-27T13:14:27.700137Z",
     "start_time": "2024-06-27T13:14:27.474267Z"
    }
   },
   "cell_type": "code",
   "source": [
    "unique = list(set(ChildTannerStaging.objects.values_list('manarche_dt_avail',\n",
    "                                                         flat=True).distinct()))\n",
    "\n",
    "unique = list(set(ChildPregTesting.objects.values_list('menarche', flat=True).distinct()))"
   ],
   "id": "35b5977eb8e17a0f",
   "outputs": [],
   "execution_count": 12
  },
  {
   "metadata": {
    "ExecuteTime": {
     "end_time": "2024-06-27T13:14:28.788774Z",
     "start_time": "2024-06-27T13:14:28.756498Z"
    }
   },
   "cell_type": "code",
   "source": "unique",
   "id": "b59739d5f1066cb7",
   "outputs": [
    {
     "data": {
      "text/plain": [
       "['', 'Yes', 'No']"
      ]
     },
     "execution_count": 13,
     "metadata": {},
     "output_type": "execute_result"
    }
   ],
   "execution_count": 13
  },
  {
   "metadata": {},
   "cell_type": "code",
   "outputs": [],
   "execution_count": null,
   "source": "",
   "id": "1264ddf77d7dda1d"
  }
 ],
 "metadata": {
  "kernelspec": {
   "display_name": "Python 3",
   "language": "python",
   "name": "python3"
  },
  "language_info": {
   "codemirror_mode": {
    "name": "ipython",
    "version": 2
   },
   "file_extension": ".py",
   "mimetype": "text/x-python",
   "name": "python",
   "nbconvert_exporter": "python",
   "pygments_lexer": "ipython2",
   "version": "2.7.6"
  }
 },
 "nbformat": 4,
 "nbformat_minor": 5
}
